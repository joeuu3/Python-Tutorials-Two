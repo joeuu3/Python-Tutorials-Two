{
 "cells": [
  {
   "cell_type": "markdown",
   "id": "0a2c6600",
   "metadata": {},
   "source": [
    "# 3.5 Creation and use of Python Functions"
   ]
  },
  {
   "cell_type": "code",
   "execution_count": 5,
   "id": "bd40832d",
   "metadata": {},
   "outputs": [],
   "source": [
    "# Defining the first function\n",
    "def sumfunct():\n",
    "    numA = float(input(\"Number A\"))\n",
    "    numB = float(input(\"Number B\"))\n",
    "    numC = float(input(\"Number C\"))\n",
    "    sumAll = numA + numB + numC\n",
    "    print('The sum of the numbers you entered is', sumAll)"
   ]
  },
  {
   "cell_type": "code",
   "execution_count": 6,
   "id": "e017a931",
   "metadata": {},
   "outputs": [],
   "source": [
    "# Defining the second function\n",
    "def my_function1():\n",
    "    myName = input('What is your name please: ')\n",
    "    print('welcome' + myName + 'to your first python function program')\n",
    "    sumfunct() # calling the first Function"
   ]
  },
  {
   "cell_type": "code",
   "execution_count": 7,
   "id": "1b3bdbb6",
   "metadata": {},
   "outputs": [
    {
     "name": "stdout",
     "output_type": "stream",
     "text": [
      "TFunction calls activated\n",
      "What is your name please: Joseph Udoh\n",
      "welcomeJoseph Udohto your first python function program\n",
      "Number A23\n",
      "Number B34\n",
      "Number C45\n",
      "The sum of the numbers you entered is 102.0\n"
     ]
    }
   ],
   "source": [
    "# calling the functions we have defined\n",
    "print('TFunction calls activated')\n",
    "my_function1()"
   ]
  },
  {
   "cell_type": "markdown",
   "id": "e90e429c",
   "metadata": {},
   "source": [
    "## Inputing data to a function"
   ]
  },
  {
   "cell_type": "code",
   "execution_count": 8,
   "id": "a1693413",
   "metadata": {},
   "outputs": [
    {
     "name": "stdout",
     "output_type": "stream",
     "text": [
      "This is Coconut\n",
      "This is Banana\n",
      "This is Lemon\n"
     ]
    }
   ],
   "source": [
    "def myStringFunction(stringIn):\n",
    "    print('This is ' + stringIn)\n",
    "    \n",
    "myStringFunction(\"Coconut\")\n",
    "myStringFunction(\"Banana\")\n",
    "myStringFunction(\"Lemon\")"
   ]
  },
  {
   "cell_type": "code",
   "execution_count": 9,
   "id": "846e787e",
   "metadata": {},
   "outputs": [
    {
     "name": "stdout",
     "output_type": "stream",
     "text": [
      "Happiness is in class today.\n",
      "Ataimo is in class today.\n"
     ]
    }
   ],
   "source": [
    "def notKnowing(*classNames):\n",
    "    print(classNames[2], 'is in class today.')\n",
    "notKnowing('Timkere', 'Ataimo', 'Happiness', 'Divine') # Giving four inputs\n",
    "notKnowing('Unwana', 'Timkere', 'Ataimo','Happiness','Divine') # Giving five inputs"
   ]
  },
  {
   "cell_type": "markdown",
   "id": "bd68fa39",
   "metadata": {},
   "source": [
    "## A function to return value"
   ]
  },
  {
   "cell_type": "code",
   "execution_count": 10,
   "id": "eec9fa58",
   "metadata": {},
   "outputs": [
    {
     "name": "stdout",
     "output_type": "stream",
     "text": [
      "984\n",
      "1230\n",
      "12300\n"
     ]
    }
   ],
   "source": [
    "def returnValue(number):\n",
    "    return 123 * number\n",
    "print(returnValue(8))\n",
    "print(returnValue(10))\n",
    "print(returnValue(100))"
   ]
  },
  {
   "cell_type": "markdown",
   "id": "11711a5c",
   "metadata": {},
   "source": [
    "### Because of time, we cannot follow the material topic by topic. You will have to read some of the topics on your own and practice them. Read from page 77 to 87 and practice them."
   ]
  },
  {
   "cell_type": "markdown",
   "id": "4f4e51e6",
   "metadata": {},
   "source": [
    "## DATA DICTIONARY and DATA INDEXING"
   ]
  },
  {
   "cell_type": "markdown",
   "id": "2c27f5e3",
   "metadata": {},
   "source": [
    " ### A dictionary is an unordered, changeable and indexed collection of items. Dictionaries are created using Curly Brackets"
   ]
  },
  {
   "cell_type": "code",
   "execution_count": 11,
   "id": "4bf35cb9",
   "metadata": {},
   "outputs": [
    {
     "name": "stdout",
     "output_type": "stream",
     "text": [
      "{'Track Name': 'Data Science', 'Hall Number': 'Conference Room 002', 'Class Size': '38 Students', 'Instructor Name': \"I' mKing Udonyah\"}\n"
     ]
    }
   ],
   "source": [
    "myDictionary = {\n",
    "    \"Track Name\": \"Data Science\",\n",
    "    \"Hall Number\": \"Conference Room 002\",\n",
    "    \"Class Size\": \"38 Students\",\n",
    "    \"Instructor Name\": \"I' mKing Udonyah\"\n",
    "}\n",
    "print(myDictionary)"
   ]
  },
  {
   "cell_type": "markdown",
   "id": "8b1bf39d",
   "metadata": {},
   "source": [
    "## Accessing values from a Dictionary"
   ]
  },
  {
   "cell_type": "code",
   "execution_count": 12,
   "id": "768c314c",
   "metadata": {},
   "outputs": [
    {
     "name": "stdout",
     "output_type": "stream",
     "text": [
      "Data Science\n",
      "38 Students\n",
      "None\n"
     ]
    }
   ],
   "source": [
    "# Getting the value for the key Track Name\n",
    "print(myDictionary['Track Name'])\n",
    "# Getting the value for the key Class Size\n",
    "print(myDictionary.get('Class Size'))\n",
    "# Getting value for a none existing key\n",
    "print(myDictionary.get('Course Rep'))"
   ]
  },
  {
   "cell_type": "markdown",
   "id": "9d104eda",
   "metadata": {},
   "source": [
    "## Adding values into a Dictionary"
   ]
  },
  {
   "cell_type": "code",
   "execution_count": 13,
   "id": "5972b321",
   "metadata": {},
   "outputs": [
    {
     "data": {
      "text/plain": [
       "{'Track Name': 'Data Science',\n",
       " 'Hall Number': 'Conference Room 002',\n",
       " 'Class Size': '38 Students',\n",
       " 'Instructor Name': \"I' mKing Udonyah\",\n",
       " 'Program Year': 2022}"
      ]
     },
     "execution_count": 13,
     "metadata": {},
     "output_type": "execute_result"
    }
   ],
   "source": [
    "myDictionary['Program Year'] = 2022\n",
    "myDictionary # calling my Dict"
   ]
  },
  {
   "cell_type": "markdown",
   "id": "89ea52bf",
   "metadata": {},
   "source": [
    "## Looping through a Dectionary"
   ]
  },
  {
   "cell_type": "code",
   "execution_count": 14,
   "id": "282d3a9c",
   "metadata": {},
   "outputs": [
    {
     "name": "stdout",
     "output_type": "stream",
     "text": [
      "Track Name\n",
      "Hall Number\n",
      "Class Size\n",
      "Instructor Name\n",
      "Program Year\n"
     ]
    }
   ],
   "source": [
    "# Using the for loop to return the keys in the Dictionary\n",
    "for me in myDictionary:\n",
    "    print(me)"
   ]
  },
  {
   "cell_type": "code",
   "execution_count": 15,
   "id": "148a9413",
   "metadata": {},
   "outputs": [
    {
     "name": "stdout",
     "output_type": "stream",
     "text": [
      "Data Science\n",
      "Conference Room 002\n",
      "38 Students\n",
      "I' mKing Udonyah\n",
      "2022\n",
      "==================================================\n",
      "Using another code structure to print the same thing\n",
      "==================================================\n",
      "Data Science\n",
      "Conference Room 002\n",
      "38 Students\n",
      "I' mKing Udonyah\n",
      "2022\n"
     ]
    }
   ],
   "source": [
    "# Using the for loop to return the values in the dictionary\n",
    "for em in myDictionary:\n",
    "    print(myDictionary[em])\n",
    "    \n",
    "print('==================================================')\n",
    "print('Using another code structure to print the same thing')\n",
    "print('==================================================')\n",
    "\n",
    "for them in myDictionary.values():\n",
    "    print(them)"
   ]
  },
  {
   "cell_type": "code",
   "execution_count": 16,
   "id": "248755db",
   "metadata": {},
   "outputs": [
    {
     "name": "stdout",
     "output_type": "stream",
     "text": [
      "Track Name: Data Science\n",
      "Hall Number: Conference Room 002\n",
      "Class Size: 38 Students\n",
      "Instructor Name: I' mKing Udonyah\n",
      "Program Year: 2022\n",
      "====================================================\n",
      "Using another code structure to print the same thing\n",
      "====================================================\n",
      "Track Name: Data Science\n",
      "Hall Number: Conference Room 002\n",
      "Class Size: 38 Students\n",
      "Instructor Name: I' mKing Udonyah\n",
      "Program Year: 2022\n"
     ]
    }
   ],
   "source": [
    "# Accessing both the keys and variable\n",
    "for every in myDictionary:\n",
    "    print(every + ':', myDictionary[every])\n",
    "print('====================================================')\n",
    "print('Using another code structure to print the same thing')\n",
    "print('====================================================')\n",
    "for keys, valuez in myDictionary.items():\n",
    "    print(keys + ':', valuez)"
   ]
  },
  {
   "cell_type": "markdown",
   "id": "5e83f8e9",
   "metadata": {},
   "source": [
    "### There are so many things you could do with the dictionary including:"
   ]
  },
  {
   "cell_type": "code",
   "execution_count": 19,
   "id": "0a862df7",
   "metadata": {},
   "outputs": [
    {
     "ename": "SyntaxError",
     "evalue": "invalid syntax (3388220849.py, line 1)",
     "output_type": "error",
     "traceback": [
      "\u001b[1;36m  Input \u001b[1;32mIn [19]\u001b[1;36m\u001b[0m\n\u001b[1;33m    1. Checking if a key is present in the dictionary\u001b[0m\n\u001b[1;37m       ^\u001b[0m\n\u001b[1;31mSyntaxError\u001b[0m\u001b[1;31m:\u001b[0m invalid syntax\n"
     ]
    }
   ],
   "source": [
    "1. Checking if a key is present in the dictionary\n",
    "2. Adding a new element into the dictionary\n",
    "3. Removing elements from the dictionary\n",
    "4. Deleting the whole Dictionary\n",
    "5. Finding the lenght of the Dictionary etc.\n",
    "\n",
    "All the above are in the materials that we have for this course"
   ]
  },
  {
   "cell_type": "markdown",
   "id": "22aa7589",
   "metadata": {},
   "source": [
    "## Nested Dictionary"
   ]
  },
  {
   "cell_type": "markdown",
   "id": "78fb3264",
   "metadata": {},
   "source": [
    "#### Dictionary inside another Dictionary"
   ]
  },
  {
   "cell_type": "code",
   "execution_count": 24,
   "id": "8252b30b",
   "metadata": {},
   "outputs": [
    {
     "name": "stdout",
     "output_type": "stream",
     "text": [
      "Monday\t\t1\n",
      "Tuesday\t\t2\n",
      "Wednesday\t3\n",
      "Thursday\t4\n",
      "Friday\t\t5\n",
      "Saturday\t6\n",
      "Sunday\t\t7\n"
     ]
    }
   ],
   "source": [
    "# Getting a textfile\n",
    "myFile = open(\"weekDays.txt\", \"r\")\n",
    "print(myFile.read())"
   ]
  },
  {
   "cell_type": "code",
   "execution_count": 1,
   "id": "3cb83f8b",
   "metadata": {},
   "outputs": [
    {
     "data": {
      "text/plain": [
       "['Parrot', 'Crow', 'Sparrow', 'Crow', 'Eagle']"
      ]
     },
     "execution_count": 1,
     "metadata": {},
     "output_type": "execute_result"
    }
   ],
   "source": [
    "mybirds = [\"Parrot\", \"Sparrow\",\"Crow\", \"Eagle\"]\n",
    "mybirds.insert(1,'Crow')\n",
    "mybirds"
   ]
  },
  {
   "cell_type": "code",
   "execution_count": 1,
   "id": "8051e80a",
   "metadata": {},
   "outputs": [
    {
     "ename": "ValueError",
     "evalue": "list.remove(x): x not in list",
     "output_type": "error",
     "traceback": [
      "\u001b[1;31m---------------------------------------------------------------------------\u001b[0m",
      "\u001b[1;31mValueError\u001b[0m                                Traceback (most recent call last)",
      "Input \u001b[1;32mIn [1]\u001b[0m, in \u001b[0;36m<cell line: 2>\u001b[1;34m()\u001b[0m\n\u001b[0;32m      1\u001b[0m mybirds \u001b[38;5;241m=\u001b[39m [\u001b[38;5;124m\"\u001b[39m\u001b[38;5;124mParrot\u001b[39m\u001b[38;5;124m\"\u001b[39m, \u001b[38;5;124m\"\u001b[39m\u001b[38;5;124mSparrow\u001b[39m\u001b[38;5;124m\"\u001b[39m,\u001b[38;5;124m\"\u001b[39m\u001b[38;5;124mCrow\u001b[39m\u001b[38;5;124m\"\u001b[39m, \u001b[38;5;124m\"\u001b[39m\u001b[38;5;124mEagle\u001b[39m\u001b[38;5;124m\"\u001b[39m]\n\u001b[1;32m----> 2\u001b[0m \u001b[43mmybirds\u001b[49m\u001b[38;5;241;43m.\u001b[39;49m\u001b[43mremove\u001b[49m\u001b[43m(\u001b[49m\u001b[38;5;124;43m\"\u001b[39;49m\u001b[38;5;124;43mPigeon\u001b[39;49m\u001b[38;5;124;43m\"\u001b[39;49m\u001b[43m)\u001b[49m\n\u001b[0;32m      3\u001b[0m mybirds\n",
      "\u001b[1;31mValueError\u001b[0m: list.remove(x): x not in list"
     ]
    }
   ],
   "source": [
    "mybirds = [\"Parrot\", \"Sparrow\",\"Crow\", \"Eagle\"]\n",
    "mybirds.remove(\"Pigeon\")\n",
    "mybirds"
   ]
  },
  {
   "cell_type": "code",
   "execution_count": null,
   "id": "328c3b8b",
   "metadata": {},
   "outputs": [],
   "source": []
  }
 ],
 "metadata": {
  "kernelspec": {
   "display_name": "Python 3 (ipykernel)",
   "language": "python",
   "name": "python3"
  },
  "language_info": {
   "codemirror_mode": {
    "name": "ipython",
    "version": 3
   },
   "file_extension": ".py",
   "mimetype": "text/x-python",
   "name": "python",
   "nbconvert_exporter": "python",
   "pygments_lexer": "ipython3",
   "version": "3.9.12"
  }
 },
 "nbformat": 4,
 "nbformat_minor": 5
}
